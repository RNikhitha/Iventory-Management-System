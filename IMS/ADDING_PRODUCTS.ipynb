{
  "nbformat": 4,
  "nbformat_minor": 0,
  "metadata": {
    "colab": {
      "name": "ADDING PRODUCTS.ipynb",
      "provenance": [],
      "collapsed_sections": []
    },
    "kernelspec": {
      "name": "python3",
      "display_name": "Python 3"
    },
    "language_info": {
      "name": "python"
    }
  },
  "cells": [
    {
      "cell_type": "markdown",
      "metadata": {
        "id": "F_D0kX4aj2Zn"
      },
      "source": [
        "Iventory Management System"
      ]
    },
    {
      "cell_type": "markdown",
      "metadata": {
        "id": "2dbwLJThx_MP"
      },
      "source": [
        "IMPORTING FILE"
      ]
    },
    {
      "cell_type": "code",
      "metadata": {
        "id": "7TnEK1EWFFzW"
      },
      "source": [
        "import json"
      ],
      "execution_count": null,
      "outputs": []
    },
    {
      "cell_type": "code",
      "metadata": {
        "id": "T_aHDxViSTot"
      },
      "source": [
        "fd = open(\"record.json\",'r')\n",
        "r = fd.read()\n",
        "fd.close()\n",
        "\n",
        "record = json.loads(r)"
      ],
      "execution_count": null,
      "outputs": []
    },
    {
      "cell_type": "code",
      "metadata": {
        "id": "f_Dy7NSXbMty",
        "colab": {
          "base_uri": "https://localhost:8080/"
        },
        "outputId": "940d7425-9918-4d53-f8be-e0f1172fc6ee"
      },
      "source": [
        "record\n"
      ],
      "execution_count": null,
      "outputs": [
        {
          "output_type": "execute_result",
          "data": {
            "text/plain": [
              "{'1001': {'name': 'Choco Cake', 'pr': 100, 'qn': 34},\n",
              " '1002': {'name': 'Milk Cake', 'pr': 800, 'qn': 100},\n",
              " '1003': {'name': 'Drink', 'pr': 85, 'qn': 100},\n",
              " '1004': {'name': 'Candy', 'pr': 5, 'qn': 1000},\n",
              " '1005': {'name': 'Pen', 'pr': 20, 'qn': 100},\n",
              " '1006': {'name': 'Phone', 'pr': 50000, 'qn': 10},\n",
              " '1007': {'name': 'Mic', 'pr': 1500, 'qn': 0},\n",
              " '1008': {'name': 'Case', 'pr': 599, 'qn': 5},\n",
              " '1009': {'name': 'Keyboard', 'pr': 1999, 'qn': 10}}"
            ]
          },
          "metadata": {},
          "execution_count": 12
        }
      ]
    },
    {
      "cell_type": "markdown",
      "metadata": {
        "id": "VnP0VduTx2Fo"
      },
      "source": [
        "ADDING ELEMENTS INSIDE THE TEXT"
      ]
    },
    {
      "cell_type": "code",
      "metadata": {
        "id": "kvO-XuCG6MM-",
        "colab": {
          "base_uri": "https://localhost:8080/"
        },
        "outputId": "e3a5b3b6-8c89-404e-8e0b-e3ab771a10ee"
      },
      "source": [
        "prod_id = str(input(\"Enter product ID:\"))\n",
        "name = str(input(\"Enter Name:\"))\n",
        "pr = int(input(\"Enter Price:\"))\n",
        "qn = int(input(\"Enter Quantity:\"))\n",
        "\n",
        "record[prod_id]={\"name\": name , \"pr\": pr , \"qn\": qn}\n",
        "\n",
        "js = json.dumps(record)\n",
        "\n",
        "fd = open(\"record.json\",'w')\n",
        "fd.write(js)\n",
        "fd.close()"
      ],
      "execution_count": null,
      "outputs": [
        {
          "name": "stdout",
          "output_type": "stream",
          "text": [
            "Enter product ID:1030\n",
            "Enter Name:Ruler\n",
            "Enter Price:10\n",
            "Enter Quantity:67\n"
          ]
        }
      ]
    },
    {
      "cell_type": "code",
      "metadata": {
        "colab": {
          "base_uri": "https://localhost:8080/"
        },
        "id": "PR-6FTe6tZSP",
        "outputId": "1498f939-2fa1-4ff8-9331-6b23cdf0dc44"
      },
      "source": [
        "record"
      ],
      "execution_count": null,
      "outputs": [
        {
          "output_type": "execute_result",
          "data": {
            "text/plain": [
              "{'1001': {'name': 'Lays', 'pr': 20, 'qn': 30},\n",
              " '1002': {'name': 'Milk Cake', 'pr': 800, 'qn': 100},\n",
              " '1003': {'name': 'Drink', 'pr': 85, 'qn': 100},\n",
              " '1004': {'name': 'Candy', 'pr': 5, 'qn': 1000},\n",
              " '1005': {'name': 'Pen', 'pr': 20, 'qn': 100},\n",
              " '1006': {'name': 'Phone', 'pr': 50000, 'qn': 10},\n",
              " '1007': {'name': 'Mic', 'pr': 1500, 'qn': 0},\n",
              " '1008': {'name': 'Case', 'pr': 599, 'qn': 5},\n",
              " '1009': {'name': 'Keyboard', 'pr': 1999, 'qn': 10},\n",
              " '1010': {'name': 'Yellow-lays', 'pr': 10, 'qn': 40},\n",
              " '1011': {'name': 'Dairy-milk', 'pr': 40, 'qn': 100},\n",
              " '1012': {'name': 'Maggi', 'pr': 10, 'qn': 200},\n",
              " '1013': {'name': 'Coke', 'pr': 30, 'qn': 2},\n",
              " '1014': {'name': 'Butter', 'pr': 50, 'qn': 10},\n",
              " '1015': {'name': 'Cheese', 'pr': 80, 'qn': 10},\n",
              " '1016': {'name': 'Cabbage-Purple', 'pr': 150, 'qn': 1},\n",
              " '1017': {'name': 'Blueberry', 'pr': 200, 'qn': 30},\n",
              " '1018': {'name': 'Cheetos', 'pr': 10, 'qn': 30},\n",
              " '1019': {'name': 'Sparkle-water', 'pr': 40, 'qn': 28},\n",
              " '1020': {'name': 'Sugar', 'pr': 30, 'qn': 45},\n",
              " '1021': {'name': 'Bread', 'pr': 30, 'qn': 67},\n",
              " '1022': {'name': 'Tomato', 'pr': 20, 'qn': 80},\n",
              " '1023': {'name': 'Shampoo', 'pr': 80, 'qn': 10},\n",
              " '1024': {'name': 'Soap', 'pr': 20, 'qn': 3},\n",
              " '1025': {'name': 'Dettol', 'pr': 10, 'qn': 58},\n",
              " '1026': {'name': 'Pants', 'pr': 899, 'qn': 40},\n",
              " '1027': {'name': 'Stickers', 'pr': 10, 'qn': 2},\n",
              " '1028': {'name': 'Pencil', 'pr': 10, 'qn': 54},\n",
              " '1029': {'name': 'Eraser', 'pr': 29, 'qn': 34},\n",
              " '1030': {'name': 'Ruler', 'pr': 10, 'qn': 67}}"
            ]
          },
          "metadata": {},
          "execution_count": 58
        }
      ]
    }
  ]
}