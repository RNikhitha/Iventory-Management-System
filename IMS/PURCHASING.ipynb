{
  "nbformat": 4,
  "nbformat_minor": 0,
  "metadata": {
    "colab": {
      "name": "PURCHASING.ipynb",
      "provenance": [],
      "collapsed_sections": []
    },
    "kernelspec": {
      "name": "python3",
      "display_name": "Python 3"
    },
    "language_info": {
      "name": "python"
    }
  },
  "cells": [
    {
      "cell_type": "markdown",
      "metadata": {
        "id": "EC8HTWZ98drp"
      },
      "source": [
        "READ DATA"
      ]
    },
    {
      "cell_type": "code",
      "metadata": {
        "id": "8z2qXC_W49yl"
      },
      "source": [
        "import json\n",
        "fd = open(\"record.json\",'r')\n",
        "r = fd.read()\n",
        "fd.close()\n",
        "\n",
        "records = json.loads(r)"
      ],
      "execution_count": 22,
      "outputs": []
    },
    {
      "cell_type": "markdown",
      "metadata": {
        "id": "bB8CMCWr8hqv"
      },
      "source": [
        "PURCHASE"
      ]
    },
    {
      "cell_type": "code",
      "metadata": {
        "id": "r-kxvAKg8jV1",
        "colab": {
          "base_uri": "https://localhost:8080/"
        },
        "outputId": "359c1421-733f-425e-c2ac-0d58c0713eaa"
      },
      "source": [
        "from datetime import datetime\n",
        "\n",
        "#user Input\n",
        "ui_name = str(input(\"Enter the user name: \"))\n",
        "ui_prod  = str(input(\"Enter the product_Id: \"))\n",
        "ui_quant = int(input(\"Enter the quantity: \"))\n",
        "\n",
        "print(\"************PURCHASE BILL***********************\")\n",
        "now = datetime.now()\n",
        "# dd/mm/YY H:M:S\n",
        "datetime = now.strftime(\"%d/%m/%Y %H:%M:%S\")\n",
        "print(\"Time of Purchase: \", datetime)\n",
        "print(\"Buyer's name: \", ui_name)\n",
        "print(\"Enter Product Name: \", records[ui_prod]['name'])\n",
        "print(\"Enter Product Quantity: \", records[ui_prod]['qn'])\n",
        "\n",
        "if(ui_quant <= records[ui_prod]['qn']):\n",
        "  print(\"Price: \", records[ui_prod]['pr'])\n",
        "  print(\"*******************FINAL AMOUNT*******************\")\n",
        "  print(\"Billing Amount: \", records[ui_prod]['pr'] * ui_quant)\n",
        "  records[ui_prod]['qn'] = records[ui_prod]['qn'] - ui_quant\n",
        "  print(\"********************THANK YOU FOR PURCHASING********************\")\n",
        "\n",
        "else:\n",
        "  print(\"Price: \", records[ui_prod]['pr'])\n",
        "  print(\"*******************FINAL AMOUNT*******************\")\n",
        "  print(\"The availabilty of this product is limited: \",records[ui_prod]['qn'])\n",
        "  print(\"Billing Amount: \", records[ui_prod]['pr'] * records[ui_prod]['qn'])\n",
        "  records[ui_prod]['qn'] = records[ui_prod]['qn'] - records[ui_prod]['qn']\n",
        "  print(\"********************THANK YOU FOR PURCHASING********************\")\n",
        "\n"
      ],
      "execution_count": 23,
      "outputs": [
        {
          "output_type": "stream",
          "name": "stdout",
          "text": [
            "Enter the user name: nikki\n",
            "Enter the product_Id: 1008\n",
            "Enter the quantity: 2\n",
            "************PURCHASE BILL***********************\n",
            "Time of Purchase:  06/09/2021 06:51:41\n",
            "Buyer's name:  nikki\n",
            "Enter Product Name:  Case\n",
            "Enter Product Quantity:  3\n",
            "Price:  599\n",
            "*******************FINAL AMOUNT*******************\n",
            "Billing Amount:  1198\n",
            "********************THANK YOU FOR PURCHASING********************\n"
          ]
        }
      ]
    },
    {
      "cell_type": "markdown",
      "metadata": {
        "id": "arKyDalxsMVa"
      },
      "source": [
        "UPDATE JSON FILE"
      ]
    },
    {
      "cell_type": "code",
      "metadata": {
        "id": "NMl9sbwzsQwp"
      },
      "source": [
        "js = json.dumps(records)\n",
        "\n",
        "fd = open(\"record.json\",'w')\n",
        "fd.write(js)\n",
        "fd.close()"
      ],
      "execution_count": 24,
      "outputs": []
    },
    {
      "cell_type": "code",
      "metadata": {
        "colab": {
          "base_uri": "https://localhost:8080/"
        },
        "id": "13064_jFpOlA",
        "outputId": "818e5ecf-1d38-4ff2-fd21-2dcf1497d400"
      },
      "source": [
        "records"
      ],
      "execution_count": 25,
      "outputs": [
        {
          "output_type": "execute_result",
          "data": {
            "text/plain": [
              "{'1001': {'name': 'Lays', 'pr': 20, 'qn': 30},\n",
              " '1002': {'name': 'Milk Cake', 'pr': 800, 'qn': 99},\n",
              " '1003': {'name': 'Drink', 'pr': 85, 'qn': 100},\n",
              " '1004': {'name': 'Candy', 'pr': 5, 'qn': 1000},\n",
              " '1005': {'name': 'Pen', 'pr': 20, 'qn': 100},\n",
              " '1006': {'name': 'Phone', 'pr': 50000, 'qn': 10},\n",
              " '1007': {'name': 'Mic', 'pr': 1500, 'qn': 0},\n",
              " '1008': {'name': 'Case', 'pr': 599, 'qn': 1},\n",
              " '1009': {'name': 'Keyboard', 'pr': 1999, 'qn': 7},\n",
              " '1010': {'name': 'Yellow-lays', 'pr': 10, 'qn': 38},\n",
              " '1011': {'name': 'Dairy-milk', 'pr': 40, 'qn': 100},\n",
              " '1012': {'name': 'Maggi', 'pr': 10, 'qn': 200},\n",
              " '1013': {'name': 'Coke', 'pr': 30, 'qn': 2},\n",
              " '1014': {'name': 'Butter', 'pr': 50, 'qn': 10},\n",
              " '1015': {'name': 'Cheese', 'pr': 80, 'qn': 10},\n",
              " '1016': {'name': 'Cabbage-Purple', 'pr': 150, 'qn': 1},\n",
              " '1017': {'name': 'Blueberry', 'pr': 200, 'qn': 30},\n",
              " '1018': {'name': 'Cheetos', 'pr': 10, 'qn': 30},\n",
              " '1019': {'name': 'Sparkle-water', 'pr': 40, 'qn': 26},\n",
              " '1020': {'name': 'Sugar', 'pr': 30, 'qn': 42},\n",
              " '1021': {'name': 'Bread', 'pr': 30, 'qn': 67},\n",
              " '1022': {'name': 'Tomato', 'pr': 20, 'qn': 80},\n",
              " '1023': {'name': 'Shampoo', 'pr': 80, 'qn': 3},\n",
              " '1024': {'name': 'Soap', 'pr': 20, 'qn': 3},\n",
              " '1025': {'name': 'Dettol', 'pr': 10, 'qn': 58},\n",
              " '1026': {'name': 'Pants', 'pr': 899, 'qn': 40},\n",
              " '1027': {'name': 'Stickers', 'pr': 10, 'qn': 2},\n",
              " '1028': {'name': 'Pencil', 'pr': 10, 'qn': 54},\n",
              " '1029': {'name': 'Eraser', 'pr': 29, 'qn': 31},\n",
              " '1030': {'name': 'Ruler', 'pr': 10, 'qn': 67}}"
            ]
          },
          "metadata": {},
          "execution_count": 25
        }
      ]
    },
    {
      "cell_type": "markdown",
      "metadata": {
        "id": "pW82BoBGl6_Q"
      },
      "source": [
        "CREATING SALES JSON FILE"
      ]
    },
    {
      "cell_type": "code",
      "metadata": {
        "id": "3vO8mZMVmC6n"
      },
      "source": [
        "fd = open(\"sales.json\",'r')\n",
        "r = fd.read()\n",
        "fd.close()\n",
        "\n",
        "sales = json.loads(r)"
      ],
      "execution_count": 26,
      "outputs": []
    },
    {
      "cell_type": "code",
      "metadata": {
        "colab": {
          "base_uri": "https://localhost:8080/"
        },
        "id": "VuB6isc64Bqy",
        "outputId": "4c3f4ecf-e1f1-4d6b-80bd-4133815c2625"
      },
      "source": [
        "sales"
      ],
      "execution_count": 27,
      "outputs": [
        {
          "output_type": "execute_result",
          "data": {
            "text/plain": [
              "{'1': {'amount': 800, 'prod': '1002', 'qn': 1},\n",
              " '2': {'amount': 800, 'prod': '1002', 'qn': 1},\n",
              " '3': {'amount': 560, 'prod': '1023', 'qn': 7}}"
            ]
          },
          "metadata": {},
          "execution_count": 27
        }
      ]
    },
    {
      "cell_type": "code",
      "metadata": {
        "id": "8-6adOO4iVNQ",
        "colab": {
          "base_uri": "https://localhost:8080/"
        },
        "outputId": "ff38de2d-1e3e-4a5c-ac24-90fca4416ee8"
      },
      "source": [
        "serial_no = int(input(\"Enter serial number:\"))\n",
        "sales[serial_no]={'prod' : ui_prod, 'qn' : ui_quant, 'amount': records[ui_prod]['pr'] * ui_quant}\n",
        "sale = json.dumps(sales)\n",
        "\n",
        "fd = open(\"sales.json\",'w')\n",
        "fd.write(sale)\n",
        "fd.close()\n",
        "\n"
      ],
      "execution_count": 28,
      "outputs": [
        {
          "name": "stdout",
          "output_type": "stream",
          "text": [
            "Enter serial number:4\n"
          ]
        }
      ]
    },
    {
      "cell_type": "code",
      "metadata": {
        "colab": {
          "base_uri": "https://localhost:8080/"
        },
        "id": "PC6_JqFnw0oO",
        "outputId": "df1b6873-ce05-4341-81bb-77ee9ad7d29b"
      },
      "source": [
        "sales"
      ],
      "execution_count": 29,
      "outputs": [
        {
          "output_type": "execute_result",
          "data": {
            "text/plain": [
              "{'1': {'amount': 800, 'prod': '1002', 'qn': 1},\n",
              " '2': {'amount': 800, 'prod': '1002', 'qn': 1},\n",
              " '3': {'amount': 560, 'prod': '1023', 'qn': 7},\n",
              " 4: {'amount': 1198, 'prod': '1008', 'qn': 2}}"
            ]
          },
          "metadata": {},
          "execution_count": 29
        }
      ]
    }
  ]
}